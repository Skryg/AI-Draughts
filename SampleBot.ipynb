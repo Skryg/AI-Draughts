{
 "cells": [
  {
   "cell_type": "code",
   "execution_count": null,
   "source": [],
   "outputs": [],
   "metadata": {}
  },
  {
   "cell_type": "code",
   "execution_count": 26,
   "source": [
    "import math\n",
    "\n",
    "from PIL import Image, ImageColor\n",
    "import IPython.display\n",
    "import numpy as np\n",
    "\n",
    "from Position import Position\n",
    "from Piece import Piece\n",
    "from Board import Board\n",
    "from Game import Game"
   ],
   "outputs": [],
   "metadata": {}
  },
  {
   "cell_type": "code",
   "execution_count": 27,
   "source": [
    "# See Game.py to check, how an implementation of a bot should look like so that it can play games in Engine\n",
    "\n",
    "# A simple bot, which chooses the first white piece and moves it one field forward-right,\n",
    "# without checking if it's a correct move.\n",
    "# It usually looses after a few moves when it attempts to make an incorrect move\n",
    "class SampleBot:\n",
    "    def make_move(self, board):\n",
    "        piece = board.whites[0]\n",
    "        return [piece.position(), piece.position().add(1, 1)]"
   ],
   "outputs": [],
   "metadata": {}
  },
  {
   "cell_type": "code",
   "execution_count": 28,
   "source": [
    "class SampleBotOne:\n",
    "    def make_move(self, board):\n",
    "        if len(board.whites) > 0:\n",
    "            piece = board.whites[1]\n",
    "        else:\n",
    "            piece = board.whites[0]\n",
    "        return [piece.position(), piece.position().add(1, 1)]"
   ],
   "outputs": [],
   "metadata": {}
  },
  {
   "cell_type": "code",
   "execution_count": 29,
   "source": [
    "class Bot:\n",
    "    \n",
    "\n",
    "\n",
    "    \n",
    "    def check_stops(self, board,pos, y,x):\n",
    "        stops=[]\n",
    "        capt=[]\n",
    "        for i in range(1,10):\n",
    "            p = pos.add(y*i,x*i)\n",
    "\n",
    "\n",
    "\n",
    "    def possible_moves(self, board):\n",
    "        pm=[]\n",
    "        if board.capture_possible()==False:\n",
    "            if board.normal_move_possible():\n",
    "                for white in board.whites:\n",
    "                    for i in [-1, 1]:\n",
    "\n",
    "                        if white.king:\n",
    "                            for i in range(1,10):\n",
    "                                if self.isEmpty(white.position().add(i, i)):\n",
    "                                    pm+=[white.position(),white.position().add(i,i)]\n",
    "                                else:\n",
    "                                    break\n",
    "                            for i in range(1,10):\n",
    "                                if self.isEmpty(white.position().add(-i, i)):\n",
    "                                    pm+=[white.position(),white.position().add(-i,i)]\n",
    "                                else:\n",
    "                                    break\n",
    "\n",
    "                            for i in range(1,10):\n",
    "                                if self.isEmpty(white.position().add(i, -i)):\n",
    "                                    pm+=[white.position(),white.position().add(i,-i)]\n",
    "                                else:\n",
    "                                    break\n",
    "                            for i in range(1,10):\n",
    "                                if self.isEmpty(white.position().add(-i, -i)):\n",
    "                                    pm+=[white.position(),white.position().add(-i,-i)]\n",
    "                                else:\n",
    "                                    break\n",
    "                        else:\n",
    "                            if self.isEmpty(white.position().add(1, i)):\n",
    "                                pm+=[white.position(),white.position().add(1, i)]\n",
    "\n",
    "        else:\n",
    "            for white in board.whites:\n",
    "                if not white.king:\n",
    "                    for i in [-1, 1]:\n",
    "                        if self.isBlack(white.position().add(1, i)):\n",
    "                            if self.isEmpty(white.position().add(2, 2*i)):\n",
    "                                return True\n",
    "                else:\n",
    "                # Iterate over possible directions of movement\n",
    "                    for xi in [-1, 1]:\n",
    "                        for yi in [-1, 1]:\n",
    "                            where = white.position().add(yi, xi)\n",
    "                            # Go in that direction, until an occuppied field is found or we reach the end of the board\n",
    "                            while (self.isEmpty(where)):\n",
    "                                where = where.add(yi, xi)\n",
    "                            if self.isBlack(where) and self.isEmpty(where.add(yi, xi)):\n",
    "                                return True\n",
    "\n",
    "    def min_max():\n",
    "        print(\"z\")\n",
    "        \n",
    "    \n"
   ],
   "outputs": [
    {
     "output_type": "error",
     "ename": "SyntaxError",
     "evalue": "invalid syntax (757845872.py, line 7)",
     "traceback": [
      "\u001b[0;36m  File \u001b[0;32m\"/tmp/ipykernel_63075/757845872.py\"\u001b[0;36m, line \u001b[0;32m7\u001b[0m\n\u001b[0;31m    if w.x\u001b[0m\n\u001b[0m          ^\u001b[0m\n\u001b[0;31mSyntaxError\u001b[0m\u001b[0;31m:\u001b[0m invalid syntax\n"
     ]
    }
   ],
   "metadata": {}
  },
  {
   "cell_type": "code",
   "execution_count": 30,
   "source": [
    "# Suppose you have a class SampleBot and want to play againt it. Run:\n",
    "bot = SampleBotOne()\n",
    "game = Game(bot, None)\n",
    "game.play_human(True, True)\n",
    "\n",
    "# When you are asked to specify your move in a textfield, specify it similarly as in a bot.\n",
    "# However, don't wrap the locations into Positions class or a list - just list the numbers.\n",
    "# For instance, to move from position (2, 0) to position (3, 1) just type: 2 0 3 1\n",
    "# Also, remember that we firstly specify the row number and then the column number\n",
    "#\n",
    "# and that the upper-left field is (0, 0)"
   ],
   "outputs": [
    {
     "output_type": "stream",
     "name": "stdout",
     "text": [
      "Move not allowed - BLACK WINS\n",
      "You have to move to an empty field\n",
      "{'move': [{'y': 0, 'x': 2}, {'y': 1, 'x': 3}], 'must_capture': False, 'first_move': True}\n"
     ]
    },
    {
     "output_type": "display_data",
     "data": {
      "image/png": "[encoded data removed]",
      "text/plain": [
       "<PIL.Image.Image image mode=RGB size=400x400 at 0x7F5907A3A790>"
      ]
     },
     "metadata": {}
    },
    {
     "output_type": "execute_result",
     "data": {
      "text/plain": [
       "{'moves': [[{'y': 0, 'x': 2}, {'y': 1, 'x': 3}]], 'winner': 'black'}"
      ]
     },
     "metadata": {},
     "execution_count": 30
    }
   ],
   "metadata": {}
  },
  {
   "cell_type": "code",
   "execution_count": 33,
   "source": [
    "# Suppose you have classes SampleBot, SampleBotOne and want them to play against each other. Run:\n",
    "bot = SampleBot()\n",
    "botOne = SampleBotOne()\n",
    "game = Game(bot, botOne)\n",
    "game.play_human(True)"
   ],
   "outputs": [
    {
     "output_type": "stream",
     "name": "stdout",
     "text": [
      "Move not allowed - BLACK WINS\n",
      "You have to move to an empty field\n",
      "{'move': [{'y': 0, 'x': 0}, {'y': 1, 'x': 1}], 'must_capture': False, 'first_move': True}\n"
     ]
    },
    {
     "output_type": "display_data",
     "data": {
      "image/png": "[encoded data removed]",
      "text/plain": [
       "<PIL.Image.Image image mode=RGB size=400x400 at 0x7F5907A3B5B0>"
      ]
     },
     "metadata": {}
    },
    {
     "output_type": "execute_result",
     "data": {
      "text/plain": [
       "{'moves': [[{'y': 0, 'x': 0}, {'y': 1, 'x': 1}]], 'winner': 'black'}"
      ]
     },
     "metadata": {},
     "execution_count": 33
    }
   ],
   "metadata": {}
  },
  {
   "cell_type": "code",
   "execution_count": null,
   "source": [],
   "outputs": [],
   "metadata": {}
  },
  {
   "cell_type": "code",
   "execution_count": null,
   "source": [],
   "outputs": [],
   "metadata": {}
  },
  {
   "cell_type": "code",
   "execution_count": null,
   "source": [],
   "outputs": [],
   "metadata": {}
  },
  {
   "cell_type": "code",
   "execution_count": null,
   "source": [],
   "outputs": [],
   "metadata": {}
  }
 ],
 "metadata": {
  "kernelspec": {
   "name": "python3",
   "display_name": "Python 3.8.10 64-bit"
  },
  "language_info": {
   "codemirror_mode": {
    "name": "ipython",
    "version": 3
   },
   "file_extension": ".py",
   "mimetype": "text/x-python",
   "name": "python",
   "nbconvert_exporter": "python",
   "pygments_lexer": "ipython3",
   "version": "3.8.10"
  },
  "interpreter": {
   "hash": "916dbcbb3f70747c44a77c7bcd40155683ae19c65e1c03b4aa3499c5328201f1"
  }
 },
 "nbformat": 4,
 "nbformat_minor": 5
}